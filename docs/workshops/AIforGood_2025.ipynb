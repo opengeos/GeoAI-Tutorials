{
 "cells": [
  {
   "cell_type": "markdown",
   "id": "540f1683-1921-447a-ad85-27c282c2de23",
   "metadata": {},
   "source": [
    "# AI for Good Workshop 2025\n",
    "\n",
    "[![image](https://colab.research.google.com/assets/colab-badge.svg)](https://colab.research.google.com/github/opengeos/GeoAI-Tutorials/blob/main/docs/workshops/AIforGood_2025.ipynb)\n",
    "\n",
    "Join us for the AI for Good Workshop 2025, part of the UN's [AI for Good](https://aiforgood.itu.int) workshop series! This workshop will take place online on February 18, 2025, from 9:00 AM to 10:30 AM EST. It is free and open to the public. Please register using this link: [Modeling population dynamics with AI: A hands-on workshop with the Population Dynamics Foundation Model](https://aiforgood.itu.int/event/modeling-population-dynamics-with-ai-a-hands-on-workshop-with-the-population-dynamics-foundation-model).\n",
    "\n",
    "## Overview\n",
    "\n",
    "Explore the transformative potential of the Population Dynamics Foundation Model ([PDFM](https://github.com/google-research/population-dynamics)), a cutting-edge AI model designed to capture complex, multidimensional interactions among human behaviors, environmental factors, and local contexts. This workshop provides an in-depth introduction to PDFM Embeddings and their applications in geospatial analysis, public health, and socioeconomic modeling. \n",
    "\n",
    "Participants will gain hands-on experience with PDFM Embeddings to perform advanced geospatial predictions and analyses while ensuring privacy through the use of aggregated data. Key components of the workshop include: \n",
    "\n",
    "* **Introduction to PDFM Embeddings:** Delve into the model architecture of PDFM and discover how aggregated data (such as search trends, busyness levels, and weather conditions) generates location-specific embeddings.\n",
    "* **Data Preparation:** Learn to integrate ground truth data, including health statistics and socioeconomic indicators, with PDFM Embeddings at the postal code or county level.\n",
    "* **Hands-On Exercises:** Engage with interactive Colab notebooks to explore real-world applications, such as predicting housing prices using Zillow data and nighttime light predictions with Google Earth Engine data.\n",
    "* **Visualization and Interpretation:** Analyze and visualize geospatial predictions and PDFM features in 3D, enhancing your ability to interpret complex datasets. \n",
    "\n",
    "By the end of this workshop, participants will have a strong foundation in utilizing PDFM Embeddings to address real-world geospatial challenges. \n",
    "\n",
    "### Target audience\n",
    "\n",
    "This workshop is designed for data scientists, geospatial analysts, researchers, urban planners, and professionals in public health, economics, or environmental science who want to integrate AI into their workflows. \n",
    "\n",
    "### Prerequisites\n",
    "\n",
    "* A [Google Colab](https://colab.research.google.com) account\n",
    "* Access to the [PDFM embeddings](https://docs.google.com/forms/d/e/1FAIpQLSci4KYfdLfDhWzVTVoY_VPJ8jtQ9NGd95sQx-Cbji72JR3F6A/viewform)\n",
    "* Basic understanding of Python programming and geospatial data concepts is recommended\n",
    "\n",
    "## Recording\n",
    "\n",
    "The recording of the workshop will be made available on YouTube after the event. Stay tuned for the link!\n",
    "\n",
    "## Environment setup\n",
    "\n",
    "### Install the required packages locally\n",
    "\n",
    "If you are running this notebook locally, you can install the required packages using the following commands:\n",
    "\n",
    "```bash\n",
    "conda create -n sam python=3.12\n",
    "conda activate geo\n",
    "conda install -c conda-forge mamba\n",
    "mamba install -c conda-forge leafmap maplibre scikit-learn\n",
    "```\n",
    "\n",
    "### Use Google Colab\n",
    "\n",
    "If you are using Google Colab, run the following cell to install the required packages:"
   ]
  },
  {
   "cell_type": "code",
   "execution_count": null,
   "id": "963a19bc-97b0-4304-9f76-e5cfbd5c4f08",
   "metadata": {},
   "outputs": [],
   "source": [
    "%pip install \"leafmap[maplibre]\" scikit-learn"
   ]
  },
  {
   "cell_type": "markdown",
   "id": "79da113b",
   "metadata": {},
   "source": [
    "## Predicting US Housing Prices Using PDFM and Zillow Data\n",
    "\n",
    "To follow along with the workshop, you will need to have access to the PDFM embeddings. Please request access to the PDFM embeddings [here](https://docs.google.com/forms/d/e/1FAIpQLSci4KYfdLfDhWzVTVoY_VPJ8jtQ9NGd95sQx-Cbji72JR3F6A/viewform). Download the embeddings and upload them to your Google Drive or Google Colab environment.\n",
    "\n",
    "This notebook is adapted from the [PDFM tutorial](https://github.com/google-research/population-dynamics/blob/master/notebooks/pdfm_earth_engine.ipynb). Credit goes to the authors of the PDFM tutorial."
   ]
  },
  {
   "cell_type": "markdown",
   "id": "5a9705e7",
   "metadata": {},
   "source": [
    "### Import Libraries"
   ]
  },
  {
   "cell_type": "code",
   "execution_count": null,
   "id": "35b7d9ed",
   "metadata": {},
   "outputs": [],
   "source": [
    "import os\n",
    "import pandas as pd\n",
    "from sklearn.model_selection import train_test_split\n",
    "from sklearn.linear_model import LinearRegression\n",
    "from sklearn.neighbors import KNeighborsRegressor\n",
    "from leafmap.common import evaluate_model, plot_actual_vs_predicted, download_file"
   ]
  },
  {
   "cell_type": "markdown",
   "id": "927736b8",
   "metadata": {},
   "source": [
    "### Download Zillow Data\n",
    "\n",
    "The Zillow housing data can be downloaded from the [Zillow Research Data](https://www.zillow.com/research/data/) page. We will use the Zillow Home Value Index (ZHVI) data for single-family homes at the county level."
   ]
  },
  {
   "cell_type": "code",
   "execution_count": null,
   "id": "f770b383",
   "metadata": {},
   "outputs": [],
   "source": [
    "zhvi_url = \"https://github.com/opengeos/datasets/releases/download/us/zillow_home_value_index_by_zipcode.csv\"\n",
    "zhvi_file = \"../PDFM/data/zillow_home_value_index_by_zipcode.csv\""
   ]
  },
  {
   "cell_type": "code",
   "execution_count": null,
   "id": "8da962dd",
   "metadata": {},
   "outputs": [],
   "source": [
    "if not os.path.exists(zhvi_file):\n",
    "    download_file(zhvi_url, zhvi_file)"
   ]
  },
  {
   "cell_type": "markdown",
   "id": "fdd9153a",
   "metadata": {},
   "source": [
    "### Process Zillow Data\n",
    "\n",
    "The Zillow ZHVI dataset contains a `RegionName` column that corresponds to the zip code. We need to format the zip code to match the PDFM embeddings' `postal_code` format, which looks like `zip/XXXXX`."
   ]
  },
  {
   "cell_type": "code",
   "execution_count": null,
   "id": "b1217594",
   "metadata": {},
   "outputs": [],
   "source": [
    "zhvi_df = pd.read_csv(zhvi_file, dtype={\"RegionName\": \"string\"})\n",
    "zhvi_df.index = zhvi_df[\"RegionName\"].apply(lambda x: f\"zip/{x}\")\n",
    "zhvi_df.head()"
   ]
  },
  {
   "cell_type": "markdown",
   "id": "7f432b74",
   "metadata": {},
   "source": [
    "### Request access to PDFM Embeddings\n",
    "\n",
    "Please request access to the PDFM embeddings [here](https://docs.google.com/forms/d/e/1FAIpQLSci4KYfdLfDhWzVTVoY_VPJ8jtQ9NGd95sQx-Cbji72JR3F6A/viewform). Download the embeddings and upload them to your Google Drive or Google Colab environment."
   ]
  },
  {
   "cell_type": "code",
   "execution_count": null,
   "id": "05f069b1",
   "metadata": {},
   "outputs": [],
   "source": [
    "embeddings_file_path = \"../PDFM/data/zcta_embeddings.csv\""
   ]
  },
  {
   "cell_type": "code",
   "execution_count": null,
   "id": "7788bc6d",
   "metadata": {},
   "outputs": [],
   "source": [
    "if not os.path.exists(embeddings_file_path):\n",
    "    raise FileNotFoundError(\"Please request the embeddings from Google\")"
   ]
  },
  {
   "cell_type": "markdown",
   "id": "973f4efc",
   "metadata": {},
   "source": [
    "### Load PDFM Embeddings\n",
    "\n",
    "We will load the PDFM embeddings from Google Colab where you saved the embeddings."
   ]
  },
  {
   "cell_type": "code",
   "execution_count": null,
   "id": "7d3c4422",
   "metadata": {},
   "outputs": [],
   "source": [
    "zipcode_embeddings = pd.read_csv(embeddings_file_path).set_index(\"place\")\n",
    "zipcode_embeddings.head()"
   ]
  },
  {
   "cell_type": "markdown",
   "id": "a39ab7eb",
   "metadata": {},
   "source": [
    "### Join Zillow and PDFM Data\n",
    "\n",
    "We will join the Zillow and PDFM data using the GeoDataFrame index."
   ]
  },
  {
   "cell_type": "code",
   "execution_count": null,
   "id": "8ad60cd5",
   "metadata": {},
   "outputs": [],
   "source": [
    "data = zhvi_df.join(zipcode_embeddings, how=\"inner\")\n",
    "data.head()"
   ]
  },
  {
   "cell_type": "code",
   "execution_count": null,
   "id": "8083f5d6",
   "metadata": {},
   "outputs": [],
   "source": [
    "embedding_features = [f\"feature{x}\" for x in range(330)]\n",
    "label = \"2024-10-31\""
   ]
  },
  {
   "cell_type": "code",
   "execution_count": null,
   "id": "e5e9a1ac",
   "metadata": {},
   "outputs": [],
   "source": [
    "data = data.dropna(subset=[label])"
   ]
  },
  {
   "cell_type": "markdown",
   "id": "5b143c93",
   "metadata": {},
   "source": [
    "### Split Train and Test Data\n",
    "\n",
    "We will split the data into training and testing datasets using a 80-20 split. We will use the training data to train a machine learning model to predict housing prices."
   ]
  },
  {
   "cell_type": "code",
   "execution_count": null,
   "id": "7434335f",
   "metadata": {},
   "outputs": [],
   "source": [
    "data = data[embedding_features + [label]]\n",
    "X = data[embedding_features]\n",
    "y = data[label]\n",
    "\n",
    "X_train, X_test, y_train, y_test = train_test_split(\n",
    "    X, y, test_size=0.2, random_state=42\n",
    ")"
   ]
  },
  {
   "cell_type": "code",
   "execution_count": null,
   "id": "311121c9",
   "metadata": {},
   "outputs": [],
   "source": [
    "X_train.head()"
   ]
  },
  {
   "cell_type": "code",
   "execution_count": null,
   "id": "845756e5",
   "metadata": {},
   "outputs": [],
   "source": [
    "y_train.head()"
   ]
  },
  {
   "cell_type": "markdown",
   "id": "8b97234c",
   "metadata": {},
   "source": [
    "### Fit Linear Regression Model\n",
    "\n",
    "We will fit a linear regression model to predict the Zillow Home Value Index (ZHVI) using the PDFM embeddings."
   ]
  },
  {
   "cell_type": "code",
   "execution_count": null,
   "id": "41d9904b",
   "metadata": {},
   "outputs": [],
   "source": [
    "# Initialize and train a simple linear regression model\n",
    "model = LinearRegression()\n",
    "model.fit(X_train, y_train)\n",
    "\n",
    "# Make predictions\n",
    "y_pred = model.predict(X_test)"
   ]
  },
  {
   "cell_type": "markdown",
   "id": "eb5f3e81",
   "metadata": {},
   "source": [
    "### Evaluate Linear Regression Model"
   ]
  },
  {
   "cell_type": "code",
   "execution_count": null,
   "id": "99038e20",
   "metadata": {},
   "outputs": [],
   "source": [
    "evaluation_df = pd.DataFrame({\"y\": y_test, \"y_pred\": y_pred})\n",
    "metrics = evaluate_model(evaluation_df)\n",
    "print(metrics)"
   ]
  },
  {
   "cell_type": "code",
   "execution_count": null,
   "id": "30f083e5",
   "metadata": {},
   "outputs": [],
   "source": [
    "xy_lim = (0, 3_000_000)\n",
    "plot_actual_vs_predicted(\n",
    "    evaluation_df,\n",
    "    xlim=xy_lim,\n",
    "    ylim=xy_lim,\n",
    "    title=\"Actual vs Predicted Home Values\",\n",
    "    x_label=\"Actual Home Value\",\n",
    "    y_label=\"Predicted Home Value\",\n",
    ")"
   ]
  },
  {
   "cell_type": "markdown",
   "id": "e962fd1a",
   "metadata": {},
   "source": [
    "![image](https://github.com/user-attachments/assets/286638f1-88b6-4327-a883-c4e4512fbcdb)"
   ]
  },
  {
   "cell_type": "markdown",
   "id": "ed610522",
   "metadata": {},
   "source": [
    "### Fit K-Nearest Neighbors Model\n",
    "\n",
    "We will fit a K-Nearest Neighbors (KNN) model to predict the Zillow Home Value Index (ZHVI) using the PDFM embeddings."
   ]
  },
  {
   "cell_type": "code",
   "execution_count": null,
   "id": "c235c432",
   "metadata": {},
   "outputs": [],
   "source": [
    "k = 5\n",
    "model = KNeighborsRegressor(n_neighbors=k)\n",
    "model.fit(X_train, y_train)\n",
    "\n",
    "y_pred = model.predict(X_test)"
   ]
  },
  {
   "cell_type": "markdown",
   "id": "4a4086f4",
   "metadata": {},
   "source": [
    "### Evaluate K-Nearest Neighbors Model"
   ]
  },
  {
   "cell_type": "code",
   "execution_count": null,
   "id": "e418a570",
   "metadata": {},
   "outputs": [],
   "source": [
    "evaluation_df = pd.DataFrame({\"y\": y_test, \"y_pred\": y_pred})\n",
    "metrics = evaluate_model(evaluation_df)\n",
    "print(metrics)"
   ]
  },
  {
   "cell_type": "code",
   "execution_count": null,
   "id": "2f3668ad",
   "metadata": {},
   "outputs": [],
   "source": [
    "plot_actual_vs_predicted(\n",
    "    evaluation_df,\n",
    "    xlim=xy_lim,\n",
    "    ylim=xy_lim,\n",
    "    title=\"Actual vs Predicted Home Values\",\n",
    "    x_label=\"Actual Home Value\",\n",
    "    y_label=\"Predicted Home Value\",\n",
    ")"
   ]
  },
  {
   "cell_type": "markdown",
   "id": "dc50cf43",
   "metadata": {},
   "source": [
    "## Mapping PDFM Features and Predicted Housing Prices"
   ]
  },
  {
   "cell_type": "markdown",
   "id": "f669fd64",
   "metadata": {},
   "source": [
    "### Import Libraries"
   ]
  },
  {
   "cell_type": "code",
   "execution_count": null,
   "id": "08848b58",
   "metadata": {},
   "outputs": [],
   "source": [
    "import os\n",
    "import pandas as pd\n",
    "import geopandas as gpd\n",
    "from sklearn.model_selection import train_test_split\n",
    "from sklearn.linear_model import LinearRegression\n",
    "from sklearn.neighbors import KNeighborsRegressor\n",
    "from leafmap.common import evaluate_model, plot_actual_vs_predicted, download_file\n",
    "import leafmap.maplibregl as leafmap"
   ]
  },
  {
   "cell_type": "markdown",
   "id": "b3208503",
   "metadata": {},
   "source": [
    "### Download Zillow Data\n",
    "\n",
    "Download the Zillow home value data at the county level."
   ]
  },
  {
   "cell_type": "code",
   "execution_count": null,
   "id": "f41d73ec",
   "metadata": {},
   "outputs": [],
   "source": [
    "zhvi_url = \"https://github.com/opengeos/datasets/releases/download/us/zillow_home_value_index_by_county.csv\"\n",
    "zhvi_file = \"../PDFM/data/zillow_home_value_index_by_county.csv\""
   ]
  },
  {
   "cell_type": "code",
   "execution_count": null,
   "id": "fb8d08e1",
   "metadata": {},
   "outputs": [],
   "source": [
    "if not os.path.exists(zhvi_file):\n",
    "    download_file(zhvi_url, zhvi_file)"
   ]
  },
  {
   "cell_type": "markdown",
   "id": "cff49a5e",
   "metadata": {},
   "source": [
    "### Process Zillow Data\n",
    "\n",
    "The county-level Zillow ZHVI dataset contains a `StateCodeFIPS` and `MunicipalCodeFIPS` column that corresponds to the state and county FIPS codes. We need to format the FIPS codes to match the PDFM embeddings' `postal_code` format, which looks like `geoId/XXYYY`."
   ]
  },
  {
   "cell_type": "code",
   "execution_count": null,
   "id": "919dc54f",
   "metadata": {},
   "outputs": [],
   "source": [
    "zhvi_df = pd.read_csv(\n",
    "    zhvi_file, dtype={\"StateCodeFIPS\": \"string\", \"MunicipalCodeFIPS\": \"string\"}\n",
    ")\n",
    "zhvi_df.index = \"geoId/\" + zhvi_df[\"StateCodeFIPS\"] + zhvi_df[\"MunicipalCodeFIPS\"]\n",
    "zhvi_df.head()"
   ]
  },
  {
   "cell_type": "markdown",
   "id": "c5e9ecd9",
   "metadata": {},
   "source": [
    "### Request access to PDFM Embeddings\n",
    "\n",
    "The PDFM embeddings zip file you downloaded earlier contains a `county.geojson` file, which contains US county boundaries."
   ]
  },
  {
   "cell_type": "code",
   "execution_count": null,
   "id": "cff4b4f5",
   "metadata": {},
   "outputs": [],
   "source": [
    "county_geojson = \"../PDFM/data/county.geojson\"\n",
    "if not os.path.exists(county_geojson):\n",
    "    raise FileNotFoundError(\"Please request the embeddings from Google\")"
   ]
  },
  {
   "cell_type": "markdown",
   "id": "a76b373d",
   "metadata": {},
   "source": [
    "### Load county boundaries"
   ]
  },
  {
   "cell_type": "code",
   "execution_count": null,
   "id": "e162b6b1",
   "metadata": {},
   "outputs": [],
   "source": [
    "county_gdf = gpd.read_file(county_geojson)\n",
    "county_gdf.set_index(\"place\", inplace=True)\n",
    "county_gdf.head()"
   ]
  },
  {
   "cell_type": "markdown",
   "id": "03f2df3c",
   "metadata": {},
   "source": [
    "### Join home value data and county boundaries"
   ]
  },
  {
   "cell_type": "code",
   "execution_count": null,
   "id": "846240c8",
   "metadata": {},
   "outputs": [],
   "source": [
    "df = zhvi_df.join(county_gdf)\n",
    "zhvi_gdf = gpd.GeoDataFrame(df, geometry=\"geometry\")\n",
    "zhvi_gdf.head()"
   ]
  },
  {
   "cell_type": "code",
   "execution_count": null,
   "id": "f314f019",
   "metadata": {},
   "outputs": [],
   "source": [
    "column = \"2024-10-31\"\n",
    "gdf = zhvi_gdf[[\"RegionName\", \"State\", column, \"geometry\"]]\n",
    "gdf.head()"
   ]
  },
  {
   "cell_type": "markdown",
   "id": "d74b8b30",
   "metadata": {},
   "source": [
    "### Visualize home values in 2D"
   ]
  },
  {
   "cell_type": "code",
   "execution_count": null,
   "id": "afad577b",
   "metadata": {},
   "outputs": [],
   "source": [
    "m = leafmap.Map(style=\"liberty\")\n",
    "first_symbol_id = m.find_first_symbol_layer()[\"id\"]\n",
    "m.add_data(\n",
    "    gdf,\n",
    "    cmap=\"Blues\",\n",
    "    column=column,\n",
    "    legend_title=\"Median Home Value\",\n",
    "    name=\"Median Home Value\",\n",
    "    before_id=first_symbol_id,\n",
    ")\n",
    "m.add_layer_control()\n",
    "m"
   ]
  },
  {
   "cell_type": "markdown",
   "id": "6d4fc83c",
   "metadata": {},
   "source": [
    "![image](https://github.com/user-attachments/assets/df616803-87e9-4326-be8c-9de5a72a2d95)"
   ]
  },
  {
   "cell_type": "markdown",
   "id": "6108b27a",
   "metadata": {},
   "source": [
    "### Visualize home values in 3D"
   ]
  },
  {
   "cell_type": "code",
   "execution_count": null,
   "id": "8cfc9e56",
   "metadata": {},
   "outputs": [],
   "source": [
    "m = leafmap.Map(style=\"liberty\", pitch=60)\n",
    "m.add_data(\n",
    "    gdf,\n",
    "    cmap=\"Blues\",\n",
    "    column=column,\n",
    "    legend_title=\"Median Home Value\",\n",
    "    extrude=True,\n",
    "    scale_factor=3,\n",
    "    before_id=first_symbol_id,\n",
    "    name=\"Median Home Value\",\n",
    ")\n",
    "m.add_layer_control()\n",
    "m"
   ]
  },
  {
   "cell_type": "markdown",
   "id": "db17019d",
   "metadata": {},
   "source": [
    "![image](https://github.com/user-attachments/assets/65f085bb-b781-41b8-8408-440ed202b766)"
   ]
  },
  {
   "cell_type": "markdown",
   "id": "9502fe0d",
   "metadata": {},
   "source": [
    "### Load PDFM county embeddings"
   ]
  },
  {
   "cell_type": "code",
   "execution_count": null,
   "id": "e7a046f8",
   "metadata": {},
   "outputs": [],
   "source": [
    "embeddings_file_path = \"../PDFM/data/county_embeddings.csv\""
   ]
  },
  {
   "cell_type": "code",
   "execution_count": null,
   "id": "8c00557b",
   "metadata": {},
   "outputs": [],
   "source": [
    "embeddings_df = pd.read_csv(embeddings_file_path).set_index(\"place\")\n",
    "embeddings_df.head()"
   ]
  },
  {
   "cell_type": "code",
   "execution_count": null,
   "id": "edc02dc9",
   "metadata": {},
   "outputs": [],
   "source": [
    "df = embeddings_df.join(county_gdf)\n",
    "embeddings_gdf = gpd.GeoDataFrame(df, geometry=\"geometry\")\n",
    "embeddings_gdf.head()"
   ]
  },
  {
   "cell_type": "markdown",
   "id": "2db77248",
   "metadata": {},
   "source": [
    "### Visualize PDFM features\n",
    "\n",
    "Select any of the 330 PDFM features to visualize."
   ]
  },
  {
   "cell_type": "code",
   "execution_count": null,
   "id": "3c5d854f",
   "metadata": {},
   "outputs": [],
   "source": [
    "column = \"feature329\"  # Change this to the feature you want to use\n",
    "gdf = embeddings_gdf[[column, \"state\", \"county\", \"geometry\"]]\n",
    "gdf.head()"
   ]
  },
  {
   "cell_type": "code",
   "execution_count": null,
   "id": "53c53ae6",
   "metadata": {},
   "outputs": [],
   "source": [
    "m = leafmap.Map(style=\"liberty\")\n",
    "m.add_data(\n",
    "    gdf,\n",
    "    cmap=\"Blues\",\n",
    "    column=column,\n",
    "    legend_title=column,\n",
    "    before_id=first_symbol_id,\n",
    "    name=column,\n",
    ")\n",
    "m.add_layer_control()\n",
    "m"
   ]
  },
  {
   "cell_type": "markdown",
   "id": "1071134c",
   "metadata": {},
   "source": [
    "![image](https://github.com/user-attachments/assets/efa4983d-89d2-4dcc-9cd6-fefeee069bf7)"
   ]
  },
  {
   "cell_type": "code",
   "execution_count": null,
   "id": "74a587ba",
   "metadata": {},
   "outputs": [],
   "source": [
    "m = leafmap.Map(style=\"liberty\", pitch=60)\n",
    "m.add_data(\n",
    "    gdf,\n",
    "    cmap=\"Blues\",\n",
    "    column=column,\n",
    "    legend_title=column,\n",
    "    before_id=first_symbol_id,\n",
    "    name=column,\n",
    "    extrude=True,\n",
    "    scale_factor=0.00005,\n",
    ")\n",
    "m.add_layer_control()\n",
    "m"
   ]
  },
  {
   "cell_type": "markdown",
   "id": "0caf21b5",
   "metadata": {},
   "source": [
    "![image](https://github.com/user-attachments/assets/fd1b233b-2be0-47c3-b2d0-f53601020604)"
   ]
  },
  {
   "cell_type": "markdown",
   "id": "a2a4fd76",
   "metadata": {},
   "source": [
    "### Join Zillow and PDFM Data"
   ]
  },
  {
   "cell_type": "code",
   "execution_count": null,
   "id": "88142b22",
   "metadata": {},
   "outputs": [],
   "source": [
    "data = zhvi_df.join(embeddings_df, how=\"inner\")\n",
    "data.head()"
   ]
  },
  {
   "cell_type": "code",
   "execution_count": null,
   "id": "c5f799e8",
   "metadata": {},
   "outputs": [],
   "source": [
    "embedding_features = [f\"feature{x}\" for x in range(330)]\n",
    "label = \"2024-10-31\"  # Change this to the date you want to predict"
   ]
  },
  {
   "cell_type": "code",
   "execution_count": null,
   "id": "90bd33d0",
   "metadata": {},
   "outputs": [],
   "source": [
    "data = data.dropna(subset=[label])"
   ]
  },
  {
   "cell_type": "markdown",
   "id": "b0af9bed",
   "metadata": {},
   "source": [
    "### Split Train and Test Data"
   ]
  },
  {
   "cell_type": "code",
   "execution_count": null,
   "id": "157b6f82",
   "metadata": {},
   "outputs": [],
   "source": [
    "data = data[embedding_features + [label]]\n",
    "X = data[embedding_features]\n",
    "y = data[label]\n",
    "\n",
    "X_train, X_test, y_train, y_test = train_test_split(\n",
    "    X, y, test_size=0.2, random_state=42\n",
    ")"
   ]
  },
  {
   "cell_type": "markdown",
   "id": "addfd332",
   "metadata": {},
   "source": [
    "### Fit Linear Regression Model"
   ]
  },
  {
   "cell_type": "code",
   "execution_count": null,
   "id": "57cfab07",
   "metadata": {},
   "outputs": [],
   "source": [
    "model = LinearRegression()\n",
    "model.fit(X_train, y_train)\n",
    "y_pred = model.predict(X_test)"
   ]
  },
  {
   "cell_type": "markdown",
   "id": "45312861",
   "metadata": {},
   "source": [
    "### Evaluate Linear Regression Model"
   ]
  },
  {
   "cell_type": "code",
   "execution_count": null,
   "id": "199b11ad",
   "metadata": {},
   "outputs": [],
   "source": [
    "evaluation_df = pd.DataFrame({\"y\": y_test, \"y_pred\": y_pred})\n",
    "metrics = evaluate_model(evaluation_df)\n",
    "print(metrics)"
   ]
  },
  {
   "cell_type": "code",
   "execution_count": null,
   "id": "ee239c95",
   "metadata": {},
   "outputs": [],
   "source": [
    "xy_lim = (0, 1_000_000)\n",
    "plot_actual_vs_predicted(\n",
    "    evaluation_df,\n",
    "    xlim=xy_lim,\n",
    "    ylim=xy_lim,\n",
    "    title=\"Actual vs Predicted Home Values\",\n",
    "    x_label=\"Actual Home Value\",\n",
    "    y_label=\"Predicted Home Value\",\n",
    ")"
   ]
  },
  {
   "cell_type": "markdown",
   "id": "2ac16465",
   "metadata": {},
   "source": [
    "![image](https://github.com/user-attachments/assets/a16a15c6-508b-40c9-aa57-8e98b8b8e216)"
   ]
  },
  {
   "cell_type": "markdown",
   "id": "a39c573b",
   "metadata": {},
   "source": [
    "### Join predicted values with county boundaries"
   ]
  },
  {
   "cell_type": "code",
   "execution_count": null,
   "id": "665236a7",
   "metadata": {},
   "outputs": [],
   "source": [
    "df = evaluation_df.join(gdf)\n",
    "df[\"difference\"] = df[\"y_pred\"] - df[\"y\"]\n",
    "evaluation_gdf = gpd.GeoDataFrame(df, geometry=\"geometry\")\n",
    "evaluation_gdf.drop(columns=[\"category\", \"color\", column], inplace=True)\n",
    "evaluation_gdf.head()"
   ]
  },
  {
   "cell_type": "markdown",
   "id": "670b0ac1",
   "metadata": {},
   "source": [
    "### Visualize actual home values"
   ]
  },
  {
   "cell_type": "code",
   "execution_count": null,
   "id": "e5c881fd",
   "metadata": {},
   "outputs": [],
   "source": [
    "m = leafmap.Map(style=\"liberty\", pitch=60)\n",
    "m.add_data(\n",
    "    evaluation_gdf,\n",
    "    cmap=\"Blues\",\n",
    "    column=\"y\",\n",
    "    legend_title=\"Actual Home Value\",\n",
    "    before_id=first_symbol_id,\n",
    "    name=\"Actual Home Value\",\n",
    "    extrude=True,\n",
    "    scale_factor=3,\n",
    ")\n",
    "m.add_layer_control()\n",
    "m"
   ]
  },
  {
   "cell_type": "markdown",
   "id": "9d625603",
   "metadata": {},
   "source": [
    "![image](https://github.com/user-attachments/assets/a86401d5-defd-4277-877b-c8f8c5e07651)"
   ]
  },
  {
   "cell_type": "markdown",
   "id": "ef3c1516",
   "metadata": {},
   "source": [
    "### Visualize predicted home values"
   ]
  },
  {
   "cell_type": "code",
   "execution_count": null,
   "id": "6ba3c37f",
   "metadata": {},
   "outputs": [],
   "source": [
    "m = leafmap.Map(style=\"liberty\", pitch=60)\n",
    "m.add_data(\n",
    "    evaluation_gdf,\n",
    "    cmap=\"Blues\",\n",
    "    column=\"y_pred\",\n",
    "    legend_title=\"Predicted Home Value\",\n",
    "    before_id=first_symbol_id,\n",
    "    name=\"Predicted Home Value\",\n",
    "    extrude=True,\n",
    "    scale_factor=3,\n",
    ")\n",
    "m.add_layer_control()\n",
    "m"
   ]
  },
  {
   "cell_type": "markdown",
   "id": "94561fc7",
   "metadata": {},
   "source": [
    "![image](https://github.com/user-attachments/assets/6bfe1c89-968e-4eef-84cc-98bcf07c8acb)"
   ]
  },
  {
   "cell_type": "markdown",
   "id": "0423757e",
   "metadata": {},
   "source": [
    "### Visualize difference between predicted and actual home values"
   ]
  },
  {
   "cell_type": "code",
   "execution_count": null,
   "id": "3200ff0f",
   "metadata": {},
   "outputs": [],
   "source": [
    "m = leafmap.Map(style=\"liberty\", pitch=60)\n",
    "m.add_data(\n",
    "    evaluation_gdf,\n",
    "    cmap=\"coolwarm\",\n",
    "    column=\"difference\",\n",
    "    legend_title=\"y_pred-y\",\n",
    "    before_id=first_symbol_id,\n",
    "    name=\"Difference\",\n",
    "    extrude=True,\n",
    "    scale_factor=3,\n",
    ")\n",
    "m.add_layer_control()\n",
    "m"
   ]
  },
  {
   "cell_type": "markdown",
   "id": "40437e9c",
   "metadata": {},
   "source": [
    "![image](https://github.com/user-attachments/assets/4ae58eb1-ab28-49e5-b352-d769a32d3e5c)"
   ]
  }
 ],
 "metadata": {
  "kernelspec": {
   "display_name": "Python 3 (ipykernel)",
   "language": "python",
   "name": "python3"
  },
  "language_info": {
   "codemirror_mode": {
    "name": "ipython",
    "version": 3
   },
   "file_extension": ".py",
   "mimetype": "text/x-python",
   "name": "python",
   "nbconvert_exporter": "python",
   "pygments_lexer": "ipython3",
   "version": "3.12.2"
  }
 },
 "nbformat": 4,
 "nbformat_minor": 5
}
